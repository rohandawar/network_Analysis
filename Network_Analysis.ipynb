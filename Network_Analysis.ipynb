{
  "nbformat": 4,
  "nbformat_minor": 0,
  "metadata": {
    "colab": {
      "provenance": [],
      "authorship_tag": "ABX9TyNzOacABdqKw53VIt8q9HN8",
      "include_colab_link": true
    },
    "kernelspec": {
      "name": "python3",
      "display_name": "Python 3"
    },
    "language_info": {
      "name": "python"
    }
  },
  "cells": [
    {
      "cell_type": "markdown",
      "metadata": {
        "id": "view-in-github",
        "colab_type": "text"
      },
      "source": [
        "<a href=\"https://colab.research.google.com/github/rohandawar/network_Analysis/blob/main/Network_Analysis.ipynb\" target=\"_parent\"><img src=\"https://colab.research.google.com/assets/colab-badge.svg\" alt=\"Open In Colab\"/></a>"
      ]
    },
    {
      "cell_type": "code",
      "execution_count": 1,
      "metadata": {
        "colab": {
          "base_uri": "https://localhost:8080/"
        },
        "id": "EZPvySh5GbHL",
        "outputId": "8c45fe2c-7f3d-4c61-8693-04b6d30647b1"
      },
      "outputs": [
        {
          "output_type": "stream",
          "name": "stdout",
          "text": [
            "Collecting python-twitter-v2\n",
            "  Downloading python_twitter_v2-0.8.1-py3-none-any.whl (33 kB)\n",
            "Collecting Authlib<0.16.0,>=0.15.4 (from python-twitter-v2)\n",
            "  Downloading Authlib-0.15.6-py2.py3-none-any.whl (203 kB)\n",
            "\u001b[2K     \u001b[90m━━━━━━━━━━━━━━━━━━━━━━━━━━━━━━━━━━━━━━━━\u001b[0m \u001b[32m203.4/203.4 kB\u001b[0m \u001b[31m6.6 MB/s\u001b[0m eta \u001b[36m0:00:00\u001b[0m\n",
            "\u001b[?25hCollecting dataclasses-json<0.6.0,>=0.5.2 (from python-twitter-v2)\n",
            "  Downloading dataclasses_json-0.5.14-py3-none-any.whl (26 kB)\n",
            "Requirement already satisfied: requests<3.0,>=2.24 in /usr/local/lib/python3.10/dist-packages (from python-twitter-v2) (2.31.0)\n",
            "Requirement already satisfied: cryptography in /usr/local/lib/python3.10/dist-packages (from Authlib<0.16.0,>=0.15.4->python-twitter-v2) (41.0.5)\n",
            "Collecting marshmallow<4.0.0,>=3.18.0 (from dataclasses-json<0.6.0,>=0.5.2->python-twitter-v2)\n",
            "  Downloading marshmallow-3.20.1-py3-none-any.whl (49 kB)\n",
            "\u001b[2K     \u001b[90m━━━━━━━━━━━━━━━━━━━━━━━━━━━━━━━━━━━━━━━━\u001b[0m \u001b[32m49.4/49.4 kB\u001b[0m \u001b[31m5.0 MB/s\u001b[0m eta \u001b[36m0:00:00\u001b[0m\n",
            "\u001b[?25hCollecting typing-inspect<1,>=0.4.0 (from dataclasses-json<0.6.0,>=0.5.2->python-twitter-v2)\n",
            "  Downloading typing_inspect-0.9.0-py3-none-any.whl (8.8 kB)\n",
            "Requirement already satisfied: charset-normalizer<4,>=2 in /usr/local/lib/python3.10/dist-packages (from requests<3.0,>=2.24->python-twitter-v2) (3.3.1)\n",
            "Requirement already satisfied: idna<4,>=2.5 in /usr/local/lib/python3.10/dist-packages (from requests<3.0,>=2.24->python-twitter-v2) (3.4)\n",
            "Requirement already satisfied: urllib3<3,>=1.21.1 in /usr/local/lib/python3.10/dist-packages (from requests<3.0,>=2.24->python-twitter-v2) (2.0.7)\n",
            "Requirement already satisfied: certifi>=2017.4.17 in /usr/local/lib/python3.10/dist-packages (from requests<3.0,>=2.24->python-twitter-v2) (2023.7.22)\n",
            "Requirement already satisfied: packaging>=17.0 in /usr/local/lib/python3.10/dist-packages (from marshmallow<4.0.0,>=3.18.0->dataclasses-json<0.6.0,>=0.5.2->python-twitter-v2) (23.2)\n",
            "Collecting mypy-extensions>=0.3.0 (from typing-inspect<1,>=0.4.0->dataclasses-json<0.6.0,>=0.5.2->python-twitter-v2)\n",
            "  Downloading mypy_extensions-1.0.0-py3-none-any.whl (4.7 kB)\n",
            "Requirement already satisfied: typing-extensions>=3.7.4 in /usr/local/lib/python3.10/dist-packages (from typing-inspect<1,>=0.4.0->dataclasses-json<0.6.0,>=0.5.2->python-twitter-v2) (4.5.0)\n",
            "Requirement already satisfied: cffi>=1.12 in /usr/local/lib/python3.10/dist-packages (from cryptography->Authlib<0.16.0,>=0.15.4->python-twitter-v2) (1.16.0)\n",
            "Requirement already satisfied: pycparser in /usr/local/lib/python3.10/dist-packages (from cffi>=1.12->cryptography->Authlib<0.16.0,>=0.15.4->python-twitter-v2) (2.21)\n",
            "Installing collected packages: mypy-extensions, marshmallow, typing-inspect, dataclasses-json, Authlib, python-twitter-v2\n",
            "Successfully installed Authlib-0.15.6 dataclasses-json-0.5.14 marshmallow-3.20.1 mypy-extensions-1.0.0 python-twitter-v2-0.8.1 typing-inspect-0.9.0\n"
          ]
        }
      ],
      "source": [
        "!pip install python-twitter-v2"
      ]
    },
    {
      "cell_type": "code",
      "source": [
        "# Import Libs\n",
        "from pytwitter import Api"
      ],
      "metadata": {
        "id": "f15lay2eMx70"
      },
      "execution_count": 2,
      "outputs": []
    },
    {
      "cell_type": "code",
      "source": [
        "bearer_token ='AAAAAAAAAAAAAAAAAAAAAIbZqgEAAAAAM8%2FaVr20EL50KwSoa50wZdMlhDI%3DtlIOOJ4bCA363pE7MPpd2DNS8miBDUwI3QXlXPklktYWfsERHM'\n",
        "twitter_api = Api(bearer_token)"
      ],
      "metadata": {
        "id": "SW8qRZpeNB-l"
      },
      "execution_count": 4,
      "outputs": []
    },
    {
      "cell_type": "code",
      "source": [],
      "metadata": {
        "id": "I6y1cBQqOLlh"
      },
      "execution_count": null,
      "outputs": []
    }
  ]
}